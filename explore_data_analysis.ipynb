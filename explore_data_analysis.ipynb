{
 "cells": [
  {
   "attachments": {},
   "cell_type": "markdown",
   "metadata": {},
   "source": [
    "# Exploratory Data Analysis "
   ]
  },
  {
   "attachments": {},
   "cell_type": "markdown",
   "metadata": {},
   "source": [
    "## About the Data"
   ]
  },
  {
   "attachments": {},
   "cell_type": "markdown",
   "metadata": {},
   "source": [
    "The **Airbnb Listing Data 2023** from Website dataset contains information about Airbnb listings in over 190 countries. The dataset includes information about the location of the listing, the price, the number of bedrooms and bathrooms, the amenities offered, and the reviews of the listing. The dataset was scraped from the Airbnb website using a web scraping tool.  \n",
    "\n",
    "The dataset is a valuable resource for researchers and businesses who are interested in the short-term rental market. The dataset can be used to analyze the trends in the short-term rental market, to identify the most popular destinations for short-term rentals, and to compare the prices of short-term rentals in different locations.  \n",
    "\n",
    "The dataset is also a valuable resource for travelers who are looking for a place to stay. The dataset can be used to find affordable and convenient accommodations in different locations.  \n",
    "\n",
    "The dataset is available for download on Kaggle. The dataset is licensed under the Creative Commons Attribution 4.0 International License.\n",
    "\n",
    "> https://www.kaggle.com/datasets/joyshil0599/airbnb-listing-data-for-data-science?select=airnb.csv"
   ]
  },
  {
   "attachments": {},
   "cell_type": "markdown",
   "metadata": {},
   "source": [
    "## 1. Project Understanding"
   ]
  },
  {
   "attachments": {},
   "cell_type": "markdown",
   "metadata": {},
   "source": [
    "### The Essence of Exploratory Data Analysis:  \n",
    "\n",
    "EDA is an iterative process that aims to discover patterns, detect anomalies, and extract insights from data. It involves examining the underlying structure, relationships, and distributions within a dataset before diving into complex modeling or hypothesis testing. By adopting a systematic approach to EDA, you can develop a comprehensive understanding of your data, leading to more effective problem-solving and actionable outcomes.  \n",
    "\n",
    "### Understanding what the project is trying to solve  \n",
    "\n",
    "The project stakeholder is looking to find out where is the most profitable location to buy a rental property with potentially the least maintenance costs, although this is a nice to have.  \n",
    "\n",
    "### Must Have  \n",
    "\n",
    "- Median Price by State per day\n",
    "- Price Range(Min - Max) per day\n",
    "  - by state\n",
    "  - by property type\n",
    "  - by number of beds\n",
    "- Heatmap to show most profitable by state, shown as a Dashboard."
   ]
  },
  {
   "attachments": {},
   "cell_type": "markdown",
   "metadata": {},
   "source": [
    "## 2. Variable Description"
   ]
  },
  {
   "attachments": {},
   "cell_type": "markdown",
   "metadata": {},
   "source": [
    "We need to know our variables before we can analyze them. This way we can have a clear understanding before proceeding.  \n",
    "\n",
    "1. **Title:** This is a string value that describes the type of property, and location of the property\n",
    "2. **Detail:** This is a string value describing the type of property\n",
    "3. **Date:** This is a string value describing a range of dates\n",
    "4. **Price(in dollar):** This is a float value describing price\n",
    "5. **Offer price(in dollar):** This is a float value describing price that was offered originally for the property\n",
    "6. **Review and rating:** This is float value describing a rating for the property and an integer value describing how many ratings were provided\n",
    "7. **Number of bed:** This is a string value describing the number of beds at the property"
   ]
  },
  {
   "attachments": {},
   "cell_type": "markdown",
   "metadata": {},
   "source": [
    "## 3. Data Cleaning and Preprocessing"
   ]
  },
  {
   "attachments": {},
   "cell_type": "markdown",
   "metadata": {},
   "source": [
    "### Data Collection"
   ]
  },
  {
   "cell_type": "code",
   "execution_count": 1,
   "metadata": {},
   "outputs": [],
   "source": [
    "import pandas as pd\n",
    "import numpy as np\n",
    "import seaborn as sns\n",
    "import matplotlib.pyplot as plt\n",
    "%matplotlib inline\n",
    "# reads the data from the file\n",
    "df = pd.read_csv('airnb.csv', encoding=\"ISO-8859-1\")"
   ]
  },
  {
   "attachments": {},
   "cell_type": "markdown",
   "metadata": {},
   "source": [
    "### Data Description"
   ]
  },
  {
   "cell_type": "code",
   "execution_count": 2,
   "metadata": {},
   "outputs": [
    {
     "data": {
      "text/html": [
       "<div>\n",
       "<style scoped>\n",
       "    .dataframe tbody tr th:only-of-type {\n",
       "        vertical-align: middle;\n",
       "    }\n",
       "\n",
       "    .dataframe tbody tr th {\n",
       "        vertical-align: top;\n",
       "    }\n",
       "\n",
       "    .dataframe thead th {\n",
       "        text-align: right;\n",
       "    }\n",
       "</style>\n",
       "<table border=\"1\" class=\"dataframe\">\n",
       "  <thead>\n",
       "    <tr style=\"text-align: right;\">\n",
       "      <th></th>\n",
       "      <th>Title</th>\n",
       "      <th>Detail</th>\n",
       "      <th>Date</th>\n",
       "      <th>Price(in dollar)</th>\n",
       "      <th>Offer price(in dollar)</th>\n",
       "      <th>Review and rating</th>\n",
       "      <th>Number of bed</th>\n",
       "    </tr>\n",
       "  </thead>\n",
       "  <tbody>\n",
       "    <tr>\n",
       "      <th>0</th>\n",
       "      <td>Chalet in Skykomish, Washington, US</td>\n",
       "      <td>Sky Haus - A-Frame Cabin</td>\n",
       "      <td>Jun 11 - 16</td>\n",
       "      <td>306.00</td>\n",
       "      <td>229.00</td>\n",
       "      <td>4.85 (531)</td>\n",
       "      <td>4 beds</td>\n",
       "    </tr>\n",
       "    <tr>\n",
       "      <th>1</th>\n",
       "      <td>Cabin in Hancock, New York, US</td>\n",
       "      <td>The Catskill A-Frame - Mid-Century Modern Cabin</td>\n",
       "      <td>Jun 6 - 11</td>\n",
       "      <td>485.00</td>\n",
       "      <td>170.00</td>\n",
       "      <td>4.77 (146)</td>\n",
       "      <td>4 beds</td>\n",
       "    </tr>\n",
       "    <tr>\n",
       "      <th>2</th>\n",
       "      <td>Cabin in West Farmington, Ohio, US</td>\n",
       "      <td>The Triangle: A-Frame Cabin for your city retreat</td>\n",
       "      <td>Jul 9 - 14</td>\n",
       "      <td>119.00</td>\n",
       "      <td>522.00</td>\n",
       "      <td>4.91 (515)</td>\n",
       "      <td>4 beds</td>\n",
       "    </tr>\n",
       "    <tr>\n",
       "      <th>3</th>\n",
       "      <td>Home in Blue Ridge, Georgia, US</td>\n",
       "      <td>*Summer Sizzle* 5 Min to Blue Ridge* Pets* Hot...</td>\n",
       "      <td>Jun 11 - 16</td>\n",
       "      <td>192.00</td>\n",
       "      <td>348.00</td>\n",
       "      <td>4.94 (88)</td>\n",
       "      <td>5 beds</td>\n",
       "    </tr>\n",
       "    <tr>\n",
       "      <th>4</th>\n",
       "      <td>Treehouse in Grandview, Texas, US</td>\n",
       "      <td>Luxury Treehouse Couples Getaway w/ Peaceful V...</td>\n",
       "      <td>Jun 4 - 9</td>\n",
       "      <td>232.00</td>\n",
       "      <td>196.00</td>\n",
       "      <td>4.99 (222)</td>\n",
       "      <td>1 queen bed</td>\n",
       "    </tr>\n",
       "  </tbody>\n",
       "</table>\n",
       "</div>"
      ],
      "text/plain": [
       "                                 Title  \\\n",
       "0  Chalet in Skykomish, Washington, US   \n",
       "1       Cabin in Hancock, New York, US   \n",
       "2   Cabin in West Farmington, Ohio, US   \n",
       "3      Home in Blue Ridge, Georgia, US   \n",
       "4    Treehouse in Grandview, Texas, US   \n",
       "\n",
       "                                              Detail         Date  \\\n",
       "0                           Sky Haus - A-Frame Cabin  Jun 11 - 16   \n",
       "1    The Catskill A-Frame - Mid-Century Modern Cabin   Jun 6 - 11   \n",
       "2  The Triangle: A-Frame Cabin for your city retreat   Jul 9 - 14   \n",
       "3  *Summer Sizzle* 5 Min to Blue Ridge* Pets* Hot...  Jun 11 - 16   \n",
       "4  Luxury Treehouse Couples Getaway w/ Peaceful V...    Jun 4 - 9   \n",
       "\n",
       "  Price(in dollar) Offer price(in dollar) Review and rating Number of bed  \n",
       "0           306.00                 229.00        4.85 (531)        4 beds  \n",
       "1           485.00                 170.00        4.77 (146)        4 beds  \n",
       "2           119.00                 522.00        4.91 (515)        4 beds  \n",
       "3           192.00                 348.00         4.94 (88)        5 beds  \n",
       "4           232.00                 196.00        4.99 (222)   1 queen bed  "
      ]
     },
     "execution_count": 2,
     "metadata": {},
     "output_type": "execute_result"
    }
   ],
   "source": [
    "# show the top 5 rows\n",
    "df.head()"
   ]
  },
  {
   "attachments": {},
   "cell_type": "markdown",
   "metadata": {},
   "source": [
    "- **Title** I can see straight away that feature engineering is required in order to create type of property and some deeper insight into location.  \n",
    "- **Date** This will need to become 2 features for check-in and check-out dates\n"
   ]
  },
  {
   "cell_type": "code",
   "execution_count": 3,
   "metadata": {},
   "outputs": [
    {
     "name": "stdout",
     "output_type": "stream",
     "text": [
      "Data set size: (953, 7)\n",
      "<class 'pandas.core.frame.DataFrame'>\n",
      "RangeIndex: 953 entries, 0 to 952\n",
      "Data columns (total 7 columns):\n",
      " #   Column                  Non-Null Count  Dtype \n",
      "---  ------                  --------------  ----- \n",
      " 0   Title                   953 non-null    object\n",
      " 1   Detail                  953 non-null    object\n",
      " 2   Date                    953 non-null    object\n",
      " 3   Price(in dollar)        953 non-null    object\n",
      " 4   Offer price(in dollar)  166 non-null    object\n",
      " 5   Review and rating       947 non-null    object\n",
      " 6   Number of bed           953 non-null    object\n",
      "dtypes: object(7)\n",
      "memory usage: 52.2+ KB\n",
      "None\n"
     ]
    }
   ],
   "source": [
    "# Get the size of the data set\n",
    "print(\"Data set size:\", df.shape)\n",
    "\n",
    "# Get the number of observations and the names and data types of the columns\n",
    "print(df.info())"
   ]
  },
  {
   "attachments": {},
   "cell_type": "markdown",
   "metadata": {},
   "source": [
    "Data types will need to be changed to align with what we consider the data dictionary to outline."
   ]
  },
  {
   "cell_type": "code",
   "execution_count": 4,
   "metadata": {},
   "outputs": [
    {
     "data": {
      "text/html": [
       "<div>\n",
       "<style scoped>\n",
       "    .dataframe tbody tr th:only-of-type {\n",
       "        vertical-align: middle;\n",
       "    }\n",
       "\n",
       "    .dataframe tbody tr th {\n",
       "        vertical-align: top;\n",
       "    }\n",
       "\n",
       "    .dataframe thead th {\n",
       "        text-align: right;\n",
       "    }\n",
       "</style>\n",
       "<table border=\"1\" class=\"dataframe\">\n",
       "  <thead>\n",
       "    <tr style=\"text-align: right;\">\n",
       "      <th></th>\n",
       "      <th>Title</th>\n",
       "      <th>Detail</th>\n",
       "      <th>Date</th>\n",
       "      <th>Price(in dollar)</th>\n",
       "      <th>Offer price(in dollar)</th>\n",
       "      <th>Review and rating</th>\n",
       "      <th>Number of bed</th>\n",
       "    </tr>\n",
       "  </thead>\n",
       "  <tbody>\n",
       "    <tr>\n",
       "      <th>count</th>\n",
       "      <td>953</td>\n",
       "      <td>953</td>\n",
       "      <td>953</td>\n",
       "      <td>953</td>\n",
       "      <td>166</td>\n",
       "      <td>947</td>\n",
       "      <td>953</td>\n",
       "    </tr>\n",
       "    <tr>\n",
       "      <th>unique</th>\n",
       "      <td>756</td>\n",
       "      <td>839</td>\n",
       "      <td>204</td>\n",
       "      <td>322</td>\n",
       "      <td>108</td>\n",
       "      <td>754</td>\n",
       "      <td>33</td>\n",
       "    </tr>\n",
       "    <tr>\n",
       "      <th>top</th>\n",
       "      <td>Apartment in Kuala Lumpur, Malaysia</td>\n",
       "      <td>Cozy room 48.5 sq.m @The Astra near Night market</td>\n",
       "      <td>May 1 - 6</td>\n",
       "      <td>111.00</td>\n",
       "      <td>66.00</td>\n",
       "      <td>New</td>\n",
       "      <td>2 beds</td>\n",
       "    </tr>\n",
       "    <tr>\n",
       "      <th>freq</th>\n",
       "      <td>7</td>\n",
       "      <td>3</td>\n",
       "      <td>219</td>\n",
       "      <td>13</td>\n",
       "      <td>4</td>\n",
       "      <td>16</td>\n",
       "      <td>221</td>\n",
       "    </tr>\n",
       "  </tbody>\n",
       "</table>\n",
       "</div>"
      ],
      "text/plain": [
       "                                      Title  \\\n",
       "count                                   953   \n",
       "unique                                  756   \n",
       "top     Apartment in Kuala Lumpur, Malaysia   \n",
       "freq                                      7   \n",
       "\n",
       "                                                  Detail       Date  \\\n",
       "count                                                953        953   \n",
       "unique                                               839        204   \n",
       "top     Cozy room 48.5 sq.m @The Astra near Night market  May 1 - 6   \n",
       "freq                                                   3        219   \n",
       "\n",
       "       Price(in dollar) Offer price(in dollar) Review and rating Number of bed  \n",
       "count               953                    166               947           953  \n",
       "unique              322                    108               754            33  \n",
       "top              111.00                  66.00               New        2 beds  \n",
       "freq                 13                      4                16           221  "
      ]
     },
     "execution_count": 4,
     "metadata": {},
     "output_type": "execute_result"
    }
   ],
   "source": [
    "# show descriptive statistics\n",
    "df.describe()"
   ]
  },
  {
   "cell_type": "code",
   "execution_count": 5,
   "metadata": {},
   "outputs": [
    {
     "data": {
      "text/html": [
       "<div>\n",
       "<style scoped>\n",
       "    .dataframe tbody tr th:only-of-type {\n",
       "        vertical-align: middle;\n",
       "    }\n",
       "\n",
       "    .dataframe tbody tr th {\n",
       "        vertical-align: top;\n",
       "    }\n",
       "\n",
       "    .dataframe thead th {\n",
       "        text-align: right;\n",
       "    }\n",
       "</style>\n",
       "<table border=\"1\" class=\"dataframe\">\n",
       "  <thead>\n",
       "    <tr style=\"text-align: right;\">\n",
       "      <th></th>\n",
       "      <th>count</th>\n",
       "      <th>unique</th>\n",
       "      <th>top</th>\n",
       "      <th>freq</th>\n",
       "    </tr>\n",
       "  </thead>\n",
       "  <tbody>\n",
       "    <tr>\n",
       "      <th>Title</th>\n",
       "      <td>953</td>\n",
       "      <td>756</td>\n",
       "      <td>Apartment in Kuala Lumpur, Malaysia</td>\n",
       "      <td>7</td>\n",
       "    </tr>\n",
       "    <tr>\n",
       "      <th>Detail</th>\n",
       "      <td>953</td>\n",
       "      <td>839</td>\n",
       "      <td>Cozy room 48.5 sq.m @The Astra near Night market</td>\n",
       "      <td>3</td>\n",
       "    </tr>\n",
       "    <tr>\n",
       "      <th>Date</th>\n",
       "      <td>953</td>\n",
       "      <td>204</td>\n",
       "      <td>May 1 - 6</td>\n",
       "      <td>219</td>\n",
       "    </tr>\n",
       "    <tr>\n",
       "      <th>Price(in dollar)</th>\n",
       "      <td>953</td>\n",
       "      <td>322</td>\n",
       "      <td>111.00</td>\n",
       "      <td>13</td>\n",
       "    </tr>\n",
       "    <tr>\n",
       "      <th>Offer price(in dollar)</th>\n",
       "      <td>166</td>\n",
       "      <td>108</td>\n",
       "      <td>66.00</td>\n",
       "      <td>4</td>\n",
       "    </tr>\n",
       "    <tr>\n",
       "      <th>Review and rating</th>\n",
       "      <td>947</td>\n",
       "      <td>754</td>\n",
       "      <td>New</td>\n",
       "      <td>16</td>\n",
       "    </tr>\n",
       "    <tr>\n",
       "      <th>Number of bed</th>\n",
       "      <td>953</td>\n",
       "      <td>33</td>\n",
       "      <td>2 beds</td>\n",
       "      <td>221</td>\n",
       "    </tr>\n",
       "  </tbody>\n",
       "</table>\n",
       "</div>"
      ],
      "text/plain": [
       "                       count unique  \\\n",
       "Title                    953    756   \n",
       "Detail                   953    839   \n",
       "Date                     953    204   \n",
       "Price(in dollar)         953    322   \n",
       "Offer price(in dollar)   166    108   \n",
       "Review and rating        947    754   \n",
       "Number of bed            953     33   \n",
       "\n",
       "                                                                     top freq  \n",
       "Title                                Apartment in Kuala Lumpur, Malaysia    7  \n",
       "Detail                  Cozy room 48.5 sq.m @The Astra near Night market    3  \n",
       "Date                                                           May 1 - 6  219  \n",
       "Price(in dollar)                                                  111.00   13  \n",
       "Offer price(in dollar)                                             66.00    4  \n",
       "Review and rating                                                    New   16  \n",
       "Number of bed                                                     2 beds  221  "
      ]
     },
     "execution_count": 5,
     "metadata": {},
     "output_type": "execute_result"
    }
   ],
   "source": [
    "# show descriptive statistics transposed\n",
    "df.describe().T"
   ]
  },
  {
   "cell_type": "code",
   "execution_count": 6,
   "metadata": {},
   "outputs": [
    {
     "data": {
      "text/plain": [
       "Index(['Title', 'Detail', 'Date', 'Price(in dollar)', 'Offer price(in dollar)',\n",
       "       'Review and rating', 'Number of bed'],\n",
       "      dtype='object')"
      ]
     },
     "execution_count": 6,
     "metadata": {},
     "output_type": "execute_result"
    }
   ],
   "source": [
    "# show column names\n",
    "df.columns"
   ]
  },
  {
   "cell_type": "code",
   "execution_count": 7,
   "metadata": {},
   "outputs": [
    {
     "data": {
      "text/plain": [
       "Index(['Title', 'Detail', 'Date', 'Price(in dollar)', 'Offer price(in dollar)',\n",
       "       'Review and rating', 'Number of bed'],\n",
       "      dtype='object')"
      ]
     },
     "execution_count": 7,
     "metadata": {},
     "output_type": "execute_result"
    }
   ],
   "source": [
    "# select columns that are objects\n",
    "df.select_dtypes(include=['object']).columns"
   ]
  },
  {
   "cell_type": "code",
   "execution_count": 8,
   "metadata": {},
   "outputs": [
    {
     "data": {
      "text/plain": [
       "Index([], dtype='object')"
      ]
     },
     "execution_count": 8,
     "metadata": {},
     "output_type": "execute_result"
    }
   ],
   "source": [
    "# select columns that are integers\n",
    "df.select_dtypes(include=['int']).columns"
   ]
  },
  {
   "attachments": {},
   "cell_type": "markdown",
   "metadata": {},
   "source": [
    "##### Missing Values  "
   ]
  },
  {
   "cell_type": "code",
   "execution_count": 9,
   "metadata": {},
   "outputs": [
    {
     "name": "stdout",
     "output_type": "stream",
     "text": [
      "Your selected dataframe has 7 columns.\n",
      "There are 2 columns that have missing values.\n"
     ]
    },
    {
     "data": {
      "text/html": [
       "<div>\n",
       "<style scoped>\n",
       "    .dataframe tbody tr th:only-of-type {\n",
       "        vertical-align: middle;\n",
       "    }\n",
       "\n",
       "    .dataframe tbody tr th {\n",
       "        vertical-align: top;\n",
       "    }\n",
       "\n",
       "    .dataframe thead th {\n",
       "        text-align: right;\n",
       "    }\n",
       "</style>\n",
       "<table border=\"1\" class=\"dataframe\">\n",
       "  <thead>\n",
       "    <tr style=\"text-align: right;\">\n",
       "      <th></th>\n",
       "      <th>Missing Values</th>\n",
       "      <th>% of Total Values</th>\n",
       "    </tr>\n",
       "  </thead>\n",
       "  <tbody>\n",
       "    <tr>\n",
       "      <th>Offer price(in dollar)</th>\n",
       "      <td>787</td>\n",
       "      <td>82.6</td>\n",
       "    </tr>\n",
       "    <tr>\n",
       "      <th>Review and rating</th>\n",
       "      <td>6</td>\n",
       "      <td>0.6</td>\n",
       "    </tr>\n",
       "  </tbody>\n",
       "</table>\n",
       "</div>"
      ],
      "text/plain": [
       "                        Missing Values  % of Total Values\n",
       "Offer price(in dollar)             787               82.6\n",
       "Review and rating                    6                0.6"
      ]
     },
     "execution_count": 9,
     "metadata": {},
     "output_type": "execute_result"
    }
   ],
   "source": [
    "# percentage of total missing values per column\n",
    "def missing_values_table(df):\n",
    "        mis_val = df.isnull().sum()\n",
    "        mis_val_percent = 100 * df.isnull().sum() / len(df)\n",
    "        mis_val_table = pd.concat([mis_val, mis_val_percent], axis=1)\n",
    "        mis_val_table_ren_columns = mis_val_table.rename(\n",
    "        columns = {0 : 'Missing Values', 1 : '% of Total Values'})\n",
    "        mis_val_table_ren_columns = mis_val_table_ren_columns[\n",
    "            mis_val_table_ren_columns.iloc[:,1] != 0].sort_values(\n",
    "        '% of Total Values', ascending=False).round(1)\n",
    "        print (\"Your selected dataframe has \" + str(df.shape[1]) + \" columns.\\n\"      \n",
    "            \"There are \" + str(mis_val_table_ren_columns.shape[0]) +\n",
    "              \" columns that have missing values.\")\n",
    "        return mis_val_table_ren_columns\n",
    "missing_values_table(df)"
   ]
  },
  {
   "attachments": {},
   "cell_type": "markdown",
   "metadata": {},
   "source": [
    "Offer price is not a feature required for my investigation so it will be removed. However the review feature needs further insights to see the impact of the missing values"
   ]
  },
  {
   "cell_type": "code",
   "execution_count": 10,
   "metadata": {},
   "outputs": [
    {
     "data": {
      "text/plain": [
       "<Axes: >"
      ]
     },
     "execution_count": 10,
     "metadata": {},
     "output_type": "execute_result"
    },
    {
     "data": {
      "image/png": "[encoded data removed]",
      "text/plain": [
       "<Figure size 2000x1000 with 1 Axes>"
      ]
     },
     "metadata": {},
     "output_type": "display_data"
    }
   ],
   "source": [
    "plt.figure(figsize=(20,10))\n",
    "sns.heatmap(df.isnull(),cbar=False,yticklabels=False)"
   ]
  },
  {
   "attachments": {},
   "cell_type": "markdown",
   "metadata": {},
   "source": [
    "##### Zero Values"
   ]
  },
  {
   "cell_type": "code",
   "execution_count": 11,
   "metadata": {},
   "outputs": [
    {
     "data": {
      "text/plain": [
       "Title                     0.0\n",
       "Detail                    0.0\n",
       "Date                      0.0\n",
       "Price(in dollar)          0.0\n",
       "Offer price(in dollar)    0.0\n",
       "Review and rating         0.0\n",
       "Number of bed             0.0\n",
       "dtype: float64"
      ]
     },
     "execution_count": 11,
     "metadata": {},
     "output_type": "execute_result"
    }
   ],
   "source": [
    "# percentage of 0 values in each column\n",
    "values_tot = len(df.index)\n",
    "df[df == 0].count()/values_tot"
   ]
  },
  {
   "attachments": {},
   "cell_type": "markdown",
   "metadata": {},
   "source": [
    "##### Duplicates"
   ]
  },
  {
   "cell_type": "code",
   "execution_count": 12,
   "metadata": {},
   "outputs": [
    {
     "name": "stdout",
     "output_type": "stream",
     "text": [
      "number of duplicate rows:  (34, 7)\n"
     ]
    }
   ],
   "source": [
    "# Review how many duplicates are in the dataframe\n",
    "duplicate_rows_df = df[df.duplicated()]\n",
    "print(\"number of duplicate rows: \", duplicate_rows_df.shape)"
   ]
  },
  {
   "attachments": {},
   "cell_type": "markdown",
   "metadata": {},
   "source": [
    "#### Nan Values"
   ]
  },
  {
   "cell_type": "code",
   "execution_count": 13,
   "metadata": {},
   "outputs": [
    {
     "data": {
      "text/plain": [
       "Title                       0\n",
       "Detail                      0\n",
       "Date                        0\n",
       "Price(in dollar)            0\n",
       "Offer price(in dollar)    787\n",
       "Review and rating           6\n",
       "Number of bed               0\n",
       "dtype: int64"
      ]
     },
     "execution_count": 13,
     "metadata": {},
     "output_type": "execute_result"
    }
   ],
   "source": [
    "# count number of NaNs\n",
    "df.isna().sum()"
   ]
  },
  {
   "cell_type": "code",
   "execution_count": 14,
   "metadata": {},
   "outputs": [
    {
     "data": {
      "text/html": [
       "<div>\n",
       "<style scoped>\n",
       "    .dataframe tbody tr th:only-of-type {\n",
       "        vertical-align: middle;\n",
       "    }\n",
       "\n",
       "    .dataframe tbody tr th {\n",
       "        vertical-align: top;\n",
       "    }\n",
       "\n",
       "    .dataframe thead th {\n",
       "        text-align: right;\n",
       "    }\n",
       "</style>\n",
       "<table border=\"1\" class=\"dataframe\">\n",
       "  <thead>\n",
       "    <tr style=\"text-align: right;\">\n",
       "      <th></th>\n",
       "      <th>Title</th>\n",
       "      <th>Detail</th>\n",
       "      <th>Date</th>\n",
       "      <th>Price(in dollar)</th>\n",
       "      <th>Offer price(in dollar)</th>\n",
       "      <th>Review and rating</th>\n",
       "      <th>Number of bed</th>\n",
       "    </tr>\n",
       "  </thead>\n",
       "  <tbody>\n",
       "    <tr>\n",
       "      <th>6</th>\n",
       "      <td>Home in Saco, Maine, US</td>\n",
       "      <td>The Beach House. Oceanfront &amp; Sunrise Views!</td>\n",
       "      <td>Jun 4 - 9</td>\n",
       "      <td>607.00</td>\n",
       "      <td>NaN</td>\n",
       "      <td>4.64 (90)</td>\n",
       "      <td>2 queen beds</td>\n",
       "    </tr>\n",
       "    <tr>\n",
       "      <th>7</th>\n",
       "      <td>Chalet in Grand Ãtang, Canada</td>\n",
       "      <td>â¢ Cedar Peak â¢ 2 Bedroom Barrier-Free Chalet</td>\n",
       "      <td>Jun 8 - 15</td>\n",
       "      <td>381.00</td>\n",
       "      <td>NaN</td>\n",
       "      <td>5.0 (48)</td>\n",
       "      <td>2 beds</td>\n",
       "    </tr>\n",
       "    <tr>\n",
       "      <th>8</th>\n",
       "      <td>Room in Mexico City, Mexico</td>\n",
       "      <td>Room in apartment, traditional neighborhood</td>\n",
       "      <td>Jul 3 - 8</td>\n",
       "      <td>29.00</td>\n",
       "      <td>NaN</td>\n",
       "      <td>4.84 (58)</td>\n",
       "      <td>2 beds</td>\n",
       "    </tr>\n",
       "    <tr>\n",
       "      <th>9</th>\n",
       "      <td>Tiny home in Sandy Valley, Nevada, US</td>\n",
       "      <td>Peacock Tiny House near Las Vegas</td>\n",
       "      <td>Jun 26 - Jul 1</td>\n",
       "      <td>154.00</td>\n",
       "      <td>NaN</td>\n",
       "      <td>4.92 (744)</td>\n",
       "      <td>3 beds</td>\n",
       "    </tr>\n",
       "    <tr>\n",
       "      <th>10</th>\n",
       "      <td>Guest suite in Huntsville, Canada</td>\n",
       "      <td>Hidden Valleyâs Guest Suite - explore nature</td>\n",
       "      <td>Sep 4 - 10</td>\n",
       "      <td>207.00</td>\n",
       "      <td>NaN</td>\n",
       "      <td>4.97 (265)</td>\n",
       "      <td>2 beds</td>\n",
       "    </tr>\n",
       "    <tr>\n",
       "      <th>...</th>\n",
       "      <td>...</td>\n",
       "      <td>...</td>\n",
       "      <td>...</td>\n",
       "      <td>...</td>\n",
       "      <td>...</td>\n",
       "      <td>...</td>\n",
       "      <td>...</td>\n",
       "    </tr>\n",
       "    <tr>\n",
       "      <th>948</th>\n",
       "      <td>Guest suite in Lake Worth</td>\n",
       "      <td>The Garden Suite at the Historic Chateau Bleu</td>\n",
       "      <td>May 1 - 6</td>\n",
       "      <td>141.00</td>\n",
       "      <td>NaN</td>\n",
       "      <td>4.85 (82)</td>\n",
       "      <td>1 king bed</td>\n",
       "    </tr>\n",
       "    <tr>\n",
       "      <th>949</th>\n",
       "      <td>Room in Kissimmee</td>\n",
       "      <td>Private Room in Orlando/Kissimmee (2Twins) T1</td>\n",
       "      <td>May 1 - 6</td>\n",
       "      <td>43.00</td>\n",
       "      <td>NaN</td>\n",
       "      <td>4.9 (300)</td>\n",
       "      <td>1 king bed</td>\n",
       "    </tr>\n",
       "    <tr>\n",
       "      <th>950</th>\n",
       "      <td>Guesthouse in San Antonio</td>\n",
       "      <td>Casa Alexander</td>\n",
       "      <td>May 1 - 6</td>\n",
       "      <td>73.00</td>\n",
       "      <td>NaN</td>\n",
       "      <td>4.92 (282)</td>\n",
       "      <td>5 beds</td>\n",
       "    </tr>\n",
       "    <tr>\n",
       "      <th>951</th>\n",
       "      <td>Apartment in Englewood</td>\n",
       "      <td>BEACH FRONT Unit w/ Pool Sandy Toe's # 5</td>\n",
       "      <td>May 7 - 12</td>\n",
       "      <td>233.00</td>\n",
       "      <td>NaN</td>\n",
       "      <td>4.96 (318)</td>\n",
       "      <td>4 beds</td>\n",
       "    </tr>\n",
       "    <tr>\n",
       "      <th>952</th>\n",
       "      <td>Room in Long Beach</td>\n",
       "      <td>Across the Street from Beach Getaway/Near Conv...</td>\n",
       "      <td>May 1 - 6</td>\n",
       "      <td>106.00</td>\n",
       "      <td>NaN</td>\n",
       "      <td>4.85 (97)</td>\n",
       "      <td>4 beds</td>\n",
       "    </tr>\n",
       "  </tbody>\n",
       "</table>\n",
       "<p>787 rows × 7 columns</p>\n",
       "</div>"
      ],
      "text/plain": [
       "                                     Title  \\\n",
       "6                  Home in Saco, Maine, US   \n",
       "7           Chalet in Grand Ãtang, Canada   \n",
       "8              Room in Mexico City, Mexico   \n",
       "9    Tiny home in Sandy Valley, Nevada, US   \n",
       "10       Guest suite in Huntsville, Canada   \n",
       "..                                     ...   \n",
       "948              Guest suite in Lake Worth   \n",
       "949                      Room in Kissimmee   \n",
       "950              Guesthouse in San Antonio   \n",
       "951                 Apartment in Englewood   \n",
       "952                     Room in Long Beach   \n",
       "\n",
       "                                                Detail            Date  \\\n",
       "6         The Beach House. Oceanfront & Sunrise Views!       Jun 4 - 9   \n",
       "7     â¢ Cedar Peak â¢ 2 Bedroom Barrier-Free Chalet      Jun 8 - 15   \n",
       "8          Room in apartment, traditional neighborhood       Jul 3 - 8   \n",
       "9                    Peacock Tiny House near Las Vegas  Jun 26 - Jul 1   \n",
       "10      Hidden Valleyâs Guest Suite - explore nature      Sep 4 - 10   \n",
       "..                                                 ...             ...   \n",
       "948      The Garden Suite at the Historic Chateau Bleu       May 1 - 6   \n",
       "949      Private Room in Orlando/Kissimmee (2Twins) T1       May 1 - 6   \n",
       "950                                     Casa Alexander       May 1 - 6   \n",
       "951           BEACH FRONT Unit w/ Pool Sandy Toe's # 5      May 7 - 12   \n",
       "952  Across the Street from Beach Getaway/Near Conv...       May 1 - 6   \n",
       "\n",
       "    Price(in dollar) Offer price(in dollar) Review and rating Number of bed  \n",
       "6             607.00                    NaN         4.64 (90)  2 queen beds  \n",
       "7             381.00                    NaN          5.0 (48)        2 beds  \n",
       "8              29.00                    NaN         4.84 (58)        2 beds  \n",
       "9             154.00                    NaN        4.92 (744)        3 beds  \n",
       "10            207.00                    NaN        4.97 (265)        2 beds  \n",
       "..               ...                    ...               ...           ...  \n",
       "948           141.00                    NaN         4.85 (82)    1 king bed  \n",
       "949            43.00                    NaN         4.9 (300)    1 king bed  \n",
       "950            73.00                    NaN        4.92 (282)        5 beds  \n",
       "951           233.00                    NaN        4.96 (318)        4 beds  \n",
       "952           106.00                    NaN         4.85 (97)        4 beds  \n",
       "\n",
       "[787 rows x 7 columns]"
      ]
     },
     "execution_count": 14,
     "metadata": {},
     "output_type": "execute_result"
    }
   ],
   "source": [
    "#Display data with any missing values\n",
    "df.loc[df.isnull().any(axis=1)]"
   ]
  },
  {
   "attachments": {},
   "cell_type": "markdown",
   "metadata": {},
   "source": [
    "#### Unique Values"
   ]
  },
  {
   "cell_type": "code",
   "execution_count": 15,
   "metadata": {},
   "outputs": [
    {
     "data": {
      "text/plain": [
       "Title                     756\n",
       "Detail                    839\n",
       "Date                      204\n",
       "Price(in dollar)          322\n",
       "Offer price(in dollar)    108\n",
       "Review and rating         754\n",
       "Number of bed              33\n",
       "dtype: int64"
      ]
     },
     "execution_count": 15,
     "metadata": {},
     "output_type": "execute_result"
    }
   ],
   "source": [
    "# Displays total number of unique values in each column.\n",
    "df.nunique()"
   ]
  },
  {
   "attachments": {},
   "cell_type": "markdown",
   "metadata": {},
   "source": [
    "##### Unique Values for Category Data"
   ]
  },
  {
   "cell_type": "code",
   "execution_count": 16,
   "metadata": {},
   "outputs": [
    {
     "data": {
      "text/plain": [
       "array(['4 beds', '5 beds', '1 queen bed', '1 double bed', '2 queen beds',\n",
       "       '2 beds', '3 beds', '2 king beds', '1 king bed', '2 double beds',\n",
       "       '1 bed', '9 beds', '1 sofa bed', '7 beds', '3 queen beds',\n",
       "       '6 beds', '2 sofa beds', '2 single beds', '4 double beds',\n",
       "       '4 sofa beds', '4 single beds', '3 double beds', '5 double beds',\n",
       "       '11 beds', '1 bunk bed', '22 beds', '3 king beds', '4 king beds',\n",
       "       '8 beds', '17 beds', '4 queen beds', '13 beds', '10 beds'],\n",
       "      dtype=object)"
      ]
     },
     "execution_count": 16,
     "metadata": {},
     "output_type": "execute_result"
    }
   ],
   "source": [
    "# unique values for 'Number of bed'\n",
    "df['Number of bed'].unique()"
   ]
  },
  {
   "cell_type": "code",
   "execution_count": 17,
   "metadata": {},
   "outputs": [
    {
     "data": {
      "application/vnd.plotly.v1+json": {
       "config": {
        "plotlyServerURL": "https://plot.ly"
       },
       "data": [
        {
         "alignmentgroup": "True",
         "hovertemplate": "Number of bed=%{x}<br>count=%{y}<extra></extra>",
         "legendgroup": "",
         "marker": {
          "color": "#636efa",
          "pattern": {
           "shape": ""
          }
         },
         "name": "",
         "offsetgroup": "",
         "orientation": "v",
         "showlegend": false,
         "textposition": "auto",
         "type": "bar",
         "x": [
          "4 beds",
          "4 beds",
          "4 beds",
          "5 beds",
          "1 queen bed",
          "1 double bed",
          "2 queen beds",
          "2 beds",
          "2 beds",
          "3 beds",
          "2 beds",
          "2 king beds",
          "1 king bed",
          "2 double beds",
          "2 queen beds",
          "1 king bed",
          "1 king bed",
          "1 king bed",
          "1 bed",
          "1 bed",
          "3 beds",
          "2 beds",
          "3 beds",
          "1 bed",
          "5 beds",
          "1 king bed",
          "1 king bed",
          "2 beds",
          "1 queen bed",
          "2 beds",
          "1 queen bed",
          "2 king beds",
          "1 king bed",
          "2 beds",
          "1 queen bed",
          "1 queen bed",
          "1 bed",
          "2 king beds",
          "2 king beds",
          "9 beds",
          "2 queen beds",
          "1 double bed",
          "3 beds",
          "1 double bed",
          "3 beds",
          "2 double beds",
          "3 beds",
          "2 beds",
          "1 sofa bed",
          "1 queen bed",
          "3 beds",
          "2 queen beds",
          "2 queen beds",
          "2 queen beds",
          "7 beds",
          "3 beds",
          "5 beds",
          "2 beds",
          "3 queen beds",
          "6 beds",
          "1 king bed",
          "1 king bed",
          "4 beds",
          "2 beds",
          "2 queen beds",
          "1 queen bed",
          "3 beds",
          "1 bed",
          "2 beds",
          "2 beds",
          "1 king bed",
          "1 king bed",
          "3 beds",
          "2 beds",
          "2 queen beds",
          "2 beds",
          "2 beds",
          "2 sofa beds",
          "1 double bed",
          "2 beds",
          "1 king bed",
          "2 beds",
          "2 beds",
          "1 bed",
          "4 beds",
          "2 queen beds",
          "1 queen bed",
          "1 king bed",
          "2 beds",
          "2 beds",
          "2 beds",
          "1 king bed",
          "2 beds",
          "3 beds",
          "2 queen beds",
          "1 bed",
          "2 beds",
          "1 double bed",
          "1 king bed",
          "1 queen bed",
          "2 beds",
          "1 bed",
          "1 queen bed",
          "2 beds",
          "1 queen bed",
          "1 queen bed",
          "1 king bed",
          "2 beds",
          "2 king beds",
          "2 beds",
          "1 queen bed",
          "3 beds",
          "1 bed",
          "1 queen bed",
          "2 beds",
          "1 double bed",
          "2 beds",
          "1 bed",
          "2 beds",
          "1 queen bed",
          "1 bed",
          "2 queen beds",
          "2 queen beds",
          "1 queen bed",
          "1 king bed",
          "2 queen beds",
          "1 queen bed",
          "2 queen beds",
          "1 queen bed",
          "1 king bed",
          "1 bed",
          "2 beds",
          "2 queen beds",
          "3 beds",
          "1 queen bed",
          "1 king bed",
          "5 beds",
          "2 queen beds",
          "1 double bed",
          "1 king bed",
          "1 double bed",
          "1 bed",
          "1 king bed",
          "1 king bed",
          "1 king bed",
          "1 bed",
          "1 king bed",
          "2 queen beds",
          "9 beds",
          "1 bed",
          "2 beds",
          "2 beds",
          "1 queen bed",
          "3 beds",
          "3 beds",
          "3 beds",
          "1 double bed",
          "1 queen bed",
          "3 beds",
          "3 beds",
          "3 beds",
          "3 beds",
          "2 beds",
          "2 beds",
          "1 queen bed",
          "4 beds",
          "1 bed",
          "1 queen bed",
          "1 queen bed",
          "2 queen beds",
          "1 king bed",
          "1 bed",
          "3 beds",
          "2 beds",
          "2 beds",
          "2 beds",
          "3 beds",
          "2 queen beds",
          "1 bed",
          "1 bed",
          "2 beds",
          "1 bed",
          "1 queen bed",
          "1 queen bed",
          "1 queen bed",
          "1 bed",
          "1 king bed",
          "1 bed",
          "2 beds",
          "3 beds",
          "1 queen bed",
          "2 double beds",
          "2 beds",
          "2 beds",
          "1 queen bed",
          "2 double beds",
          "2 double beds",
          "2 double beds",
          "3 beds",
          "1 queen bed",
          "2 beds",
          "1 bed",
          "2 beds",
          "2 single beds",
          "2 queen beds",
          "2 beds",
          "1 queen bed",
          "1 king bed",
          "1 queen bed",
          "2 beds",
          "2 sofa beds",
          "2 beds",
          "2 beds",
          "1 queen bed",
          "1 queen bed",
          "1 queen bed",
          "2 beds",
          "2 beds",
          "2 sofa beds",
          "1 queen bed",
          "1 queen bed",
          "2 queen beds",
          "2 beds",
          "2 beds",
          "2 beds",
          "1 bed",
          "4 beds",
          "2 queen beds",
          "2 beds",
          "2 king beds",
          "2 beds",
          "1 queen bed",
          "1 queen bed",
          "1 queen bed",
          "2 beds",
          "2 double beds",
          "3 beds",
          "1 king bed",
          "1 king bed",
          "1 queen bed",
          "3 beds",
          "2 beds",
          "1 double bed",
          "1 double bed",
          "1 double bed",
          "1 double bed",
          "1 double bed",
          "1 double bed",
          "1 double bed",
          "1 double bed",
          "1 double bed",
          "1 double bed",
          "1 double bed",
          "4 beds",
          "3 beds",
          "1 bed",
          "1 sofa bed",
          "2 beds",
          "4 double beds",
          "1 queen bed",
          "2 beds",
          "2 beds",
          "4 sofa beds",
          "1 double bed",
          "3 beds",
          "3 beds",
          "2 beds",
          "2 double beds",
          "3 beds",
          "3 beds",
          "2 double beds",
          "5 beds",
          "1 bed",
          "2 beds",
          "2 double beds",
          "3 beds",
          "2 double beds",
          "2 double beds",
          "2 beds",
          "4 beds",
          "1 bed",
          "1 sofa bed",
          "2 beds",
          "2 beds",
          "4 beds",
          "1 double bed",
          "2 beds",
          "2 beds",
          "2 beds",
          "1 queen bed",
          "4 beds",
          "2 beds",
          "1 bed",
          "1 bed",
          "2 beds",
          "2 beds",
          "4 single beds",
          "1 queen bed",
          "3 beds",
          "5 beds",
          "1 sofa bed",
          "1 bed",
          "1 bed",
          "1 bed",
          "1 bed",
          "1 bed",
          "2 beds",
          "2 beds",
          "3 beds",
          "1 bed",
          "2 beds",
          "1 double bed",
          "3 beds",
          "4 beds",
          "1 double bed",
          "4 single beds",
          "1 double bed",
          "3 beds",
          "4 beds",
          "2 single beds",
          "2 single beds",
          "2 single beds",
          "2 single beds",
          "2 single beds",
          "2 beds",
          "3 beds",
          "4 beds",
          "1 double bed",
          "4 single beds",
          "1 double bed",
          "1 queen bed",
          "4 beds",
          "1 king bed",
          "2 beds",
          "4 beds",
          "1 bed",
          "4 beds",
          "3 beds",
          "1 queen bed",
          "1 queen bed",
          "1 queen bed",
          "1 queen bed",
          "2 beds",
          "1 king bed",
          "3 beds",
          "1 double bed",
          "3 double beds",
          "4 double beds",
          "2 beds",
          "4 single beds",
          "1 sofa bed",
          "1 sofa bed",
          "1 sofa bed",
          "1 sofa bed",
          "1 sofa bed",
          "1 sofa bed",
          "1 sofa bed",
          "1 sofa bed",
          "1 sofa bed",
          "1 sofa bed",
          "5 double beds",
          "2 queen beds",
          "1 bed",
          "1 double bed",
          "1 double bed",
          "3 beds",
          "2 double beds",
          "1 bed",
          "1 bed",
          "2 beds",
          "1 king bed",
          "2 beds",
          "3 beds",
          "2 double beds",
          "1 double bed",
          "1 bed",
          "2 beds",
          "2 beds",
          "2 double beds",
          "1 bed",
          "1 bed",
          "2 beds",
          "1 king bed",
          "2 beds",
          "3 beds",
          "2 double beds",
          "1 double bed",
          "1 double bed",
          "3 beds",
          "2 beds",
          "1 bed",
          "2 beds",
          "2 beds",
          "3 double beds",
          "1 double bed",
          "1 bed",
          "1 queen bed",
          "3 beds",
          "2 beds",
          "2 beds",
          "3 queen beds",
          "4 beds",
          "3 beds",
          "3 beds",
          "4 beds",
          "4 double beds",
          "2 beds",
          "1 king bed",
          "3 beds",
          "4 beds",
          "2 beds",
          "1 bed",
          "1 sofa bed",
          "1 bed",
          "2 beds",
          "2 beds",
          "3 queen beds",
          "4 beds",
          "2 beds",
          "3 beds",
          "4 beds",
          "4 double beds",
          "1 king bed",
          "3 beds",
          "2 beds",
          "1 bed",
          "1 sofa bed",
          "1 double bed",
          "1 bed",
          "1 double bed",
          "4 beds",
          "4 beds",
          "4 beds",
          "1 queen bed",
          "3 beds",
          "2 beds",
          "3 beds",
          "1 queen bed",
          "2 king beds",
          "1 double bed",
          "2 beds",
          "1 double bed",
          "1 double bed",
          "3 beds",
          "2 beds",
          "3 beds",
          "1 queen bed",
          "4 beds",
          "2 double beds",
          "2 double beds",
          "2 double beds",
          "1 king bed",
          "1 bed",
          "1 king bed",
          "1 king bed",
          "5 beds",
          "5 beds",
          "11 beds",
          "3 double beds",
          "4 beds",
          "4 beds",
          "1 bed",
          "1 queen bed",
          "1 bed",
          "1 double bed",
          "1 double bed",
          "1 bunk bed",
          "1 bunk bed",
          "1 double bed",
          "1 king bed",
          "1 bunk bed",
          "1 queen bed",
          "2 beds",
          "2 beds",
          "1 queen bed",
          "3 beds",
          "2 king beds",
          "7 beds",
          "2 double beds",
          "6 beds",
          "2 king beds",
          "2 queen beds",
          "1 king bed",
          "1 king bed",
          "1 king bed",
          "1 king bed",
          "3 beds",
          "1 king bed",
          "3 beds",
          "3 beds",
          "2 double beds",
          "1 queen bed",
          "2 single beds",
          "1 queen bed",
          "2 king beds",
          "4 beds",
          "22 beds",
          "3 queen beds",
          "3 beds",
          "2 beds",
          "1 bed",
          "3 beds",
          "1 double bed",
          "1 double bed",
          "1 bed",
          "1 king bed",
          "1 bed",
          "4 beds",
          "1 queen bed",
          "1 bed",
          "1 bed",
          "1 double bed",
          "1 queen bed",
          "5 double beds",
          "1 bed",
          "1 double bed",
          "6 beds",
          "9 beds",
          "1 king bed",
          "1 bed",
          "1 bed",
          "1 bed",
          "6 beds",
          "1 king bed",
          "9 beds",
          "1 bed",
          "3 king beds",
          "1 bed",
          "2 beds",
          "2 beds",
          "2 beds",
          "1 bed",
          "1 queen bed",
          "1 king bed",
          "2 beds",
          "4 beds",
          "1 bed",
          "2 beds",
          "1 queen bed",
          "1 queen bed",
          "1 king bed",
          "4 king beds",
          "2 beds",
          "2 beds",
          "1 bed",
          "3 queen beds",
          "1 bed",
          "1 king bed",
          "1 bed",
          "8 beds",
          "1 queen bed",
          "2 beds",
          "1 queen bed",
          "1 bed",
          "2 beds",
          "2 beds",
          "2 beds",
          "1 king bed",
          "1 bed",
          "2 beds",
          "2 beds",
          "1 king bed",
          "1 double bed",
          "4 beds",
          "3 beds",
          "17 beds",
          "1 double bed",
          "1 king bed",
          "1 queen bed",
          "1 queen bed",
          "4 queen beds",
          "2 king beds",
          "1 king bed",
          "2 king beds",
          "2 king beds",
          "2 king beds",
          "1 bed",
          "1 king bed",
          "1 bed",
          "1 bed",
          "1 king bed",
          "2 king beds",
          "1 bed",
          "1 double bed",
          "3 beds",
          "2 beds",
          "2 beds",
          "1 king bed",
          "2 king beds",
          "1 queen bed",
          "2 beds",
          "3 beds",
          "1 king bed",
          "1 king bed",
          "1 bed",
          "1 king bed",
          "1 king bed",
          "1 bed",
          "1 double bed",
          "3 beds",
          "2 beds",
          "2 beds",
          "1 king bed",
          "2 king beds",
          "4 beds",
          "1 queen bed",
          "1 king bed",
          "1 king bed",
          "2 beds",
          "2 beds",
          "2 beds",
          "2 beds",
          "2 beds",
          "2 queen beds",
          "4 beds",
          "3 beds",
          "3 double beds",
          "2 queen beds",
          "1 king bed",
          "1 queen bed",
          "2 king beds",
          "1 bed",
          "1 bed",
          "2 beds",
          "2 queen beds",
          "2 beds",
          "2 queen beds",
          "3 beds",
          "3 beds",
          "3 beds",
          "1 queen bed",
          "2 beds",
          "2 beds",
          "3 beds",
          "4 beds",
          "4 beds",
          "6 beds",
          "1 king bed",
          "2 beds",
          "1 double bed",
          "8 beds",
          "1 queen bed",
          "2 beds",
          "2 beds",
          "4 beds",
          "2 beds",
          "1 king bed",
          "1 king bed",
          "6 beds",
          "1 bed",
          "1 bed",
          "1 king bed",
          "2 beds",
          "8 beds",
          "1 queen bed",
          "2 beds",
          "2 beds",
          "2 beds",
          "2 beds",
          "1 king bed",
          "1 sofa bed",
          "2 beds",
          "1 bed",
          "2 double beds",
          "1 queen bed",
          "1 queen bed",
          "2 king beds",
          "1 king bed",
          "2 queen beds",
          "1 queen bed",
          "2 beds",
          "8 beds",
          "1 queen bed",
          "1 queen bed",
          "2 beds",
          "2 beds",
          "2 beds",
          "3 beds",
          "2 beds",
          "3 double beds",
          "1 queen bed",
          "2 double beds",
          "1 queen bed",
          "1 queen bed",
          "3 beds",
          "1 double bed",
          "1 king bed",
          "4 beds",
          "2 beds",
          "2 king beds",
          "1 king bed",
          "1 king bed",
          "3 beds",
          "2 queen beds",
          "2 beds",
          "1 bed",
          "1 bed",
          "1 bed",
          "1 bed",
          "1 bed",
          "1 bed",
          "1 bed",
          "1 queen bed",
          "1 queen bed",
          "5 beds",
          "4 beds",
          "2 queen beds",
          "2 queen beds",
          "2 beds",
          "1 queen bed",
          "2 queen beds",
          "4 beds",
          "3 beds",
          "1 bed",
          "1 queen bed",
          "3 beds",
          "3 beds",
          "1 king bed",
          "2 beds",
          "2 beds",
          "2 beds",
          "3 beds",
          "1 queen bed",
          "2 queen beds",
          "5 beds",
          "3 queen beds",
          "5 beds",
          "1 king bed",
          "2 queen beds",
          "2 beds",
          "2 beds",
          "1 king bed",
          "4 beds",
          "2 beds",
          "1 queen bed",
          "6 beds",
          "3 beds",
          "1 bed",
          "4 beds",
          "2 beds",
          "1 king bed",
          "2 beds",
          "3 beds",
          "1 queen bed",
          "6 beds",
          "1 bed",
          "6 beds",
          "2 beds",
          "2 beds",
          "5 beds",
          "3 beds",
          "3 beds",
          "6 beds",
          "2 beds",
          "2 beds",
          "2 beds",
          "3 beds",
          "3 beds",
          "4 beds",
          "2 beds",
          "2 beds",
          "1 bed",
          "2 queen beds",
          "1 queen bed",
          "2 beds",
          "4 beds",
          "1 queen bed",
          "5 beds",
          "2 beds",
          "1 bed",
          "2 beds",
          "4 beds",
          "4 beds",
          "4 beds",
          "2 queen beds",
          "2 beds",
          "2 beds",
          "1 king bed",
          "3 beds",
          "2 double beds",
          "1 king bed",
          "2 beds",
          "2 beds",
          "1 bed",
          "2 queen beds",
          "2 beds",
          "1 queen bed",
          "2 beds",
          "2 beds",
          "1 bed",
          "2 queen beds",
          "4 beds",
          "1 bed",
          "2 queen beds",
          "4 beds",
          "2 beds",
          "9 beds",
          "6 beds",
          "2 beds",
          "3 beds",
          "2 queen beds",
          "1 queen bed",
          "1 king bed",
          "3 beds",
          "2 beds",
          "2 beds",
          "2 beds",
          "2 beds",
          "3 beds",
          "3 beds",
          "2 beds",
          "2 beds",
          "2 beds",
          "2 beds",
          "3 beds",
          "4 beds",
          "4 beds",
          "1 queen bed",
          "2 queen beds",
          "3 beds",
          "3 beds",
          "4 beds",
          "2 queen beds",
          "2 beds",
          "6 beds",
          "6 beds",
          "6 beds",
          "6 beds",
          "2 beds",
          "1 king bed",
          "4 beds",
          "1 bed",
          "3 beds",
          "2 queen beds",
          "2 beds",
          "2 beds",
          "2 beds",
          "3 beds",
          "1 queen bed",
          "2 beds",
          "4 beds",
          "3 beds",
          "3 queen beds",
          "1 queen bed",
          "3 beds",
          "3 beds",
          "2 queen beds",
          "3 beds",
          "4 beds",
          "2 beds",
          "1 double bed",
          "2 beds",
          "1 queen bed",
          "2 beds",
          "1 double bed",
          "2 beds",
          "4 beds",
          "2 beds",
          "3 beds",
          "13 beds",
          "2 beds",
          "2 queen beds",
          "1 double bed",
          "1 queen bed",
          "1 queen bed",
          "2 queen beds",
          "3 beds",
          "1 queen bed",
          "1 sofa bed",
          "5 beds",
          "4 double beds",
          "3 beds",
          "4 beds",
          "3 beds",
          "3 beds",
          "1 bed",
          "1 king bed",
          "3 queen beds",
          "2 beds",
          "2 beds",
          "2 beds",
          "2 beds",
          "2 beds",
          "10 beds",
          "5 beds",
          "2 beds",
          "3 beds",
          "2 beds",
          "2 queen beds",
          "1 queen bed",
          "3 beds",
          "1 king bed",
          "4 beds",
          "6 beds",
          "2 beds",
          "1 sofa bed",
          "3 beds",
          "2 queen beds",
          "2 beds",
          "2 beds",
          "2 beds",
          "2 beds",
          "2 beds",
          "1 queen bed",
          "2 beds",
          "1 queen bed",
          "2 beds",
          "2 beds",
          "4 beds",
          "3 beds",
          "1 queen bed",
          "3 beds",
          "2 beds",
          "4 beds",
          "3 beds",
          "3 beds",
          "3 beds",
          "3 beds",
          "1 king bed",
          "2 beds",
          "3 beds",
          "1 queen bed",
          "2 beds",
          "3 beds",
          "4 beds",
          "2 beds",
          "6 beds",
          "1 queen bed",
          "2 beds",
          "3 beds",
          "2 beds",
          "7 beds",
          "2 beds",
          "5 beds",
          "3 beds",
          "3 beds",
          "3 beds",
          "1 bed",
          "3 beds",
          "2 king beds",
          "2 beds",
          "2 beds",
          "2 beds",
          "1 bed",
          "3 beds",
          "2 beds",
          "1 bed",
          "2 beds",
          "1 king bed",
          "1 king bed",
          "5 beds",
          "4 beds",
          "4 beds"
         ],
         "xaxis": "x",
         "y": [
          1,
          1,
          1,
          1,
          1,
          1,
          1,
          1,
          1,
          1,
          1,
          1,
          1,
          1,
          1,
          1,
          1,
          1,
          1,
          1,
          1,
          1,
          1,
          1,
          1,
          1,
          1,
          1,
          1,
          1,
          1,
          1,
          1,
          1,
          1,
          1,
          1,
          1,
          1,
          1,
          1,
          1,
          1,
          1,
          1,
          1,
          1,
          1,
          1,
          1,
          1,
          1,
          1,
          1,
          1,
          1,
          1,
          1,
          1,
          1,
          1,
          1,
          1,
          1,
          1,
          1,
          1,
          1,
          1,
          1,
          1,
          1,
          1,
          1,
          1,
          1,
          1,
          1,
          1,
          1,
          1,
          1,
          1,
          1,
          1,
          1,
          1,
          1,
          1,
          1,
          1,
          1,
          1,
          1,
          1,
          1,
          1,
          1,
          1,
          1,
          1,
          1,
          1,
          1,
          1,
          1,
          1,
          1,
          1,
          1,
          1,
          1,
          1,
          1,
          1,
          1,
          1,
          1,
          1,
          1,
          1,
          1,
          1,
          1,
          1,
          1,
          1,
          1,
          1,
          1,
          1,
          1,
          1,
          1,
          1,
          1,
          1,
          1,
          1,
          1,
          1,
          1,
          1,
          1,
          1,
          1,
          1,
          1,
          1,
          1,
          1,
          1,
          1,
          1,
          1,
          1,
          1,
          1,
          1,
          1,
          1,
          1,
          1,
          1,
          1,
          1,
          1,
          1,
          1,
          1,
          1,
          1,
          1,
          1,
          1,
          1,
          1,
          1,
          1,
          1,
          1,
          1,
          1,
          1,
          1,
          1,
          1,
          1,
          1,
          1,
          1,
          1,
          1,
          1,
          1,
          1,
          1,
          1,
          1,
          1,
          1,
          1,
          1,
          1,
          1,
          1,
          1,
          1,
          1,
          1,
          1,
          1,
          1,
          1,
          1,
          1,
          1,
          1,
          1,
          1,
          1,
          1,
          1,
          1,
          1,
          1,
          1,
          1,
          1,
          1,
          1,
          1,
          1,
          1,
          1,
          1,
          1,
          1,
          1,
          1,
          1,
          1,
          1,
          1,
          1,
          1,
          1,
          1,
          1,
          1,
          1,
          1,
          1,
          1,
          1,
          1,
          1,
          1,
          1,
          1,
          1,
          1,
          1,
          1,
          1,
          1,
          1,
          1,
          1,
          1,
          1,
          1,
          1,
          1,
          1,
          1,
          1,
          1,
          1,
          1,
          1,
          1,
          1,
          1,
          1,
          1,
          1,
          1,
          1,
          1,
          1,
          1,
          1,
          1,
          1,
          1,
          1,
          1,
          1,
          1,
          1,
          1,
          1,
          1,
          1,
          1,
          1,
          1,
          1,
          1,
          1,
          1,
          1,
          1,
          1,
          1,
          1,
          1,
          1,
          1,
          1,
          1,
          1,
          1,
          1,
          1,
          1,
          1,
          1,
          1,
          1,
          1,
          1,
          1,
          1,
          1,
          1,
          1,
          1,
          1,
          1,
          1,
          1,
          1,
          1,
          1,
          1,
          1,
          1,
          1,
          1,
          1,
          1,
          1,
          1,
          1,
          1,
          1,
          1,
          1,
          1,
          1,
          1,
          1,
          1,
          1,
          1,
          1,
          1,
          1,
          1,
          1,
          1,
          1,
          1,
          1,
          1,
          1,
          1,
          1,
          1,
          1,
          1,
          1,
          1,
          1,
          1,
          1,
          1,
          1,
          1,
          1,
          1,
          1,
          1,
          1,
          1,
          1,
          1,
          1,
          1,
          1,
          1,
          1,
          1,
          1,
          1,
          1,
          1,
          1,
          1,
          1,
          1,
          1,
          1,
          1,
          1,
          1,
          1,
          1,
          1,
          1,
          1,
          1,
          1,
          1,
          1,
          1,
          1,
          1,
          1,
          1,
          1,
          1,
          1,
          1,
          1,
          1,
          1,
          1,
          1,
          1,
          1,
          1,
          1,
          1,
          1,
          1,
          1,
          1,
          1,
          1,
          1,
          1,
          1,
          1,
          1,
          1,
          1,
          1,
          1,
          1,
          1,
          1,
          1,
          1,
          1,
          1,
          1,
          1,
          1,
          1,
          1,
          1,
          1,
          1,
          1,
          1,
          1,
          1,
          1,
          1,
          1,
          1,
          1,
          1,
          1,
          1,
          1,
          1,
          1,
          1,
          1,
          1,
          1,
          1,
          1,
          1,
          1,
          1,
          1,
          1,
          1,
          1,
          1,
          1,
          1,
          1,
          1,
          1,
          1,
          1,
          1,
          1,
          1,
          1,
          1,
          1,
          1,
          1,
          1,
          1,
          1,
          1,
          1,
          1,
          1,
          1,
          1,
          1,
          1,
          1,
          1,
          1,
          1,
          1,
          1,
          1,
          1,
          1,
          1,
          1,
          1,
          1,
          1,
          1,
          1,
          1,
          1,
          1,
          1,
          1,
          1,
          1,
          1,
          1,
          1,
          1,
          1,
          1,
          1,
          1,
          1,
          1,
          1,
          1,
          1,
          1,
          1,
          1,
          1,
          1,
          1,
          1,
          1,
          1,
          1,
          1,
          1,
          1,
          1,
          1,
          1,
          1,
          1,
          1,
          1,
          1,
          1,
          1,
          1,
          1,
          1,
          1,
          1,
          1,
          1,
          1,
          1,
          1,
          1,
          1,
          1,
          1,
          1,
          1,
          1,
          1,
          1,
          1,
          1,
          1,
          1,
          1,
          1,
          1,
          1,
          1,
          1,
          1,
          1,
          1,
          1,
          1,
          1,
          1,
          1,
          1,
          1,
          1,
          1,
          1,
          1,
          1,
          1,
          1,
          1,
          1,
          1,
          1,
          1,
          1,
          1,
          1,
          1,
          1,
          1,
          1,
          1,
          1,
          1,
          1,
          1,
          1,
          1,
          1,
          1,
          1,
          1,
          1,
          1,
          1,
          1,
          1,
          1,
          1,
          1,
          1,
          1,
          1,
          1,
          1,
          1,
          1,
          1,
          1,
          1,
          1,
          1,
          1,
          1,
          1,
          1,
          1,
          1,
          1,
          1,
          1,
          1,
          1,
          1,
          1,
          1,
          1,
          1,
          1,
          1,
          1,
          1,
          1,
          1,
          1,
          1,
          1,
          1,
          1,
          1,
          1,
          1,
          1,
          1,
          1,
          1,
          1,
          1,
          1,
          1,
          1,
          1,
          1,
          1,
          1,
          1,
          1,
          1,
          1,
          1,
          1,
          1,
          1,
          1,
          1,
          1,
          1,
          1,
          1,
          1,
          1,
          1,
          1,
          1,
          1,
          1,
          1,
          1,
          1,
          1,
          1,
          1,
          1,
          1,
          1,
          1,
          1,
          1,
          1,
          1,
          1,
          1,
          1,
          1,
          1,
          1,
          1,
          1,
          1,
          1,
          1,
          1,
          1,
          1,
          1,
          1,
          1,
          1,
          1,
          1,
          1,
          1,
          1,
          1,
          1,
          1,
          1,
          1,
          1,
          1,
          1,
          1,
          1,
          1,
          1,
          1,
          1,
          1,
          1,
          1,
          1,
          1,
          1,
          1,
          1,
          1,
          1,
          1,
          1,
          1,
          1,
          1,
          1,
          1,
          1,
          1,
          1,
          1,
          1,
          1,
          1,
          1,
          1,
          1,
          1,
          1,
          1,
          1,
          1,
          1,
          1,
          1,
          1,
          1,
          1,
          1,
          1,
          1,
          1,
          1,
          1,
          1,
          1,
          1,
          1,
          1,
          1,
          1,
          1,
          1,
          1,
          1,
          1,
          1,
          1,
          1,
          1,
          1,
          1,
          1,
          1,
          1,
          1,
          1,
          1,
          1,
          1,
          1,
          1,
          1,
          1,
          1,
          1,
          1,
          1,
          1,
          1,
          1,
          1,
          1,
          1,
          1,
          1,
          1,
          1,
          1,
          1,
          1,
          1,
          1,
          1,
          1,
          1,
          1,
          1,
          1,
          1,
          1,
          1,
          1,
          1,
          1,
          1,
          1,
          1,
          1,
          1,
          1,
          1,
          1,
          1,
          1,
          1,
          1,
          1,
          1,
          1,
          1,
          1,
          1,
          1,
          1,
          1,
          1,
          1,
          1,
          1,
          1,
          1,
          1,
          1,
          1,
          1,
          1,
          1,
          1,
          1,
          1,
          1,
          1,
          1,
          1,
          1,
          1,
          1,
          1,
          1,
          1,
          1,
          1,
          1,
          1,
          1,
          1,
          1,
          1
         ],
         "yaxis": "y"
        }
       ],
       "layout": {
        "barmode": "relative",
        "legend": {
         "tracegroupgap": 0
        },
        "margin": {
         "t": 60
        },
        "template": {
         "data": {
          "bar": [
           {
            "error_x": {
             "color": "#2a3f5f"
            },
            "error_y": {
             "color": "#2a3f5f"
            },
            "marker": {
             "line": {
              "color": "#E5ECF6",
              "width": 0.5
             },
             "pattern": {
              "fillmode": "overlay",
              "size": 10,
              "solidity": 0.2
             }
            },
            "type": "bar"
           }
          ],
          "barpolar": [
           {
            "marker": {
             "line": {
              "color": "#E5ECF6",
              "width": 0.5
             },
             "pattern": {
              "fillmode": "overlay",
              "size": 10,
              "solidity": 0.2
             }
            },
            "type": "barpolar"
           }
          ],
          "carpet": [
           {
            "aaxis": {
             "endlinecolor": "#2a3f5f",
             "gridcolor": "white",
             "linecolor": "white",
             "minorgridcolor": "white",
             "startlinecolor": "#2a3f5f"
            },
            "baxis": {
             "endlinecolor": "#2a3f5f",
             "gridcolor": "white",
             "linecolor": "white",
             "minorgridcolor": "white",
             "startlinecolor": "#2a3f5f"
            },
            "type": "carpet"
           }
          ],
          "choropleth": [
           {
            "colorbar": {
             "outlinewidth": 0,
             "ticks": ""
            },
            "type": "choropleth"
           }
          ],
          "contour": [
           {
            "colorbar": {
             "outlinewidth": 0,
             "ticks": ""
            },
            "colorscale": [
             [
              0,
              "#0d0887"
             ],
             [
              0.1111111111111111,
              "#46039f"
             ],
             [
              0.2222222222222222,
              "#7201a8"
             ],
             [
              0.3333333333333333,
              "#9c179e"
             ],
             [
              0.4444444444444444,
              "#bd3786"
             ],
             [
              0.5555555555555556,
              "#d8576b"
             ],
             [
              0.6666666666666666,
              "#ed7953"
             ],
             [
              0.7777777777777778,
              "#fb9f3a"
             ],
             [
              0.8888888888888888,
              "#fdca26"
             ],
             [
              1,
              "#f0f921"
             ]
            ],
            "type": "contour"
           }
          ],
          "contourcarpet": [
           {
            "colorbar": {
             "outlinewidth": 0,
             "ticks": ""
            },
            "type": "contourcarpet"
           }
          ],
          "heatmap": [
           {
            "colorbar": {
             "outlinewidth": 0,
             "ticks": ""
            },
            "colorscale": [
             [
              0,
              "#0d0887"
             ],
             [
              0.1111111111111111,
              "#46039f"
             ],
             [
              0.2222222222222222,
              "#7201a8"
             ],
             [
              0.3333333333333333,
              "#9c179e"
             ],
             [
              0.4444444444444444,
              "#bd3786"
             ],
             [
              0.5555555555555556,
              "#d8576b"
             ],
             [
              0.6666666666666666,
              "#ed7953"
             ],
             [
              0.7777777777777778,
              "#fb9f3a"
             ],
             [
              0.8888888888888888,
              "#fdca26"
             ],
             [
              1,
              "#f0f921"
             ]
            ],
            "type": "heatmap"
           }
          ],
          "heatmapgl": [
           {
            "colorbar": {
             "outlinewidth": 0,
             "ticks": ""
            },
            "colorscale": [
             [
              0,
              "#0d0887"
             ],
             [
              0.1111111111111111,
              "#46039f"
             ],
             [
              0.2222222222222222,
              "#7201a8"
             ],
             [
              0.3333333333333333,
              "#9c179e"
             ],
             [
              0.4444444444444444,
              "#bd3786"
             ],
             [
              0.5555555555555556,
              "#d8576b"
             ],
             [
              0.6666666666666666,
              "#ed7953"
             ],
             [
              0.7777777777777778,
              "#fb9f3a"
             ],
             [
              0.8888888888888888,
              "#fdca26"
             ],
             [
              1,
              "#f0f921"
             ]
            ],
            "type": "heatmapgl"
           }
          ],
          "histogram": [
           {
            "marker": {
             "pattern": {
              "fillmode": "overlay",
              "size": 10,
              "solidity": 0.2
             }
            },
            "type": "histogram"
           }
          ],
          "histogram2d": [
           {
            "colorbar": {
             "outlinewidth": 0,
             "ticks": ""
            },
            "colorscale": [
             [
              0,
              "#0d0887"
             ],
             [
              0.1111111111111111,
              "#46039f"
             ],
             [
              0.2222222222222222,
              "#7201a8"
             ],
             [
              0.3333333333333333,
              "#9c179e"
             ],
             [
              0.4444444444444444,
              "#bd3786"
             ],
             [
              0.5555555555555556,
              "#d8576b"
             ],
             [
              0.6666666666666666,
              "#ed7953"
             ],
             [
              0.7777777777777778,
              "#fb9f3a"
             ],
             [
              0.8888888888888888,
              "#fdca26"
             ],
             [
              1,
              "#f0f921"
             ]
            ],
            "type": "histogram2d"
           }
          ],
          "histogram2dcontour": [
           {
            "colorbar": {
             "outlinewidth": 0,
             "ticks": ""
            },
            "colorscale": [
             [
              0,
              "#0d0887"
             ],
             [
              0.1111111111111111,
              "#46039f"
             ],
             [
              0.2222222222222222,
              "#7201a8"
             ],
             [
              0.3333333333333333,
              "#9c179e"
             ],
             [
              0.4444444444444444,
              "#bd3786"
             ],
             [
              0.5555555555555556,
              "#d8576b"
             ],
             [
              0.6666666666666666,
              "#ed7953"
             ],
             [
              0.7777777777777778,
              "#fb9f3a"
             ],
             [
              0.8888888888888888,
              "#fdca26"
             ],
             [
              1,
              "#f0f921"
             ]
            ],
            "type": "histogram2dcontour"
           }
          ],
          "mesh3d": [
           {
            "colorbar": {
             "outlinewidth": 0,
             "ticks": ""
            },
            "type": "mesh3d"
           }
          ],
          "parcoords": [
           {
            "line": {
             "colorbar": {
              "outlinewidth": 0,
              "ticks": ""
             }
            },
            "type": "parcoords"
           }
          ],
          "pie": [
           {
            "automargin": true,
            "type": "pie"
           }
          ],
          "scatter": [
           {
            "fillpattern": {
             "fillmode": "overlay",
             "size": 10,
             "solidity": 0.2
            },
            "type": "scatter"
           }
          ],
          "scatter3d": [
           {
            "line": {
             "colorbar": {
              "outlinewidth": 0,
              "ticks": ""
             }
            },
            "marker": {
             "colorbar": {
              "outlinewidth": 0,
              "ticks": ""
             }
            },
            "type": "scatter3d"
           }
          ],
          "scattercarpet": [
           {
            "marker": {
             "colorbar": {
              "outlinewidth": 0,
              "ticks": ""
             }
            },
            "type": "scattercarpet"
           }
          ],
          "scattergeo": [
           {
            "marker": {
             "colorbar": {
              "outlinewidth": 0,
              "ticks": ""
             }
            },
            "type": "scattergeo"
           }
          ],
          "scattergl": [
           {
            "marker": {
             "colorbar": {
              "outlinewidth": 0,
              "ticks": ""
             }
            },
            "type": "scattergl"
           }
          ],
          "scattermapbox": [
           {
            "marker": {
             "colorbar": {
              "outlinewidth": 0,
              "ticks": ""
             }
            },
            "type": "scattermapbox"
           }
          ],
          "scatterpolar": [
           {
            "marker": {
             "colorbar": {
              "outlinewidth": 0,
              "ticks": ""
             }
            },
            "type": "scatterpolar"
           }
          ],
          "scatterpolargl": [
           {
            "marker": {
             "colorbar": {
              "outlinewidth": 0,
              "ticks": ""
             }
            },
            "type": "scatterpolargl"
           }
          ],
          "scatterternary": [
           {
            "marker": {
             "colorbar": {
              "outlinewidth": 0,
              "ticks": ""
             }
            },
            "type": "scatterternary"
           }
          ],
          "surface": [
           {
            "colorbar": {
             "outlinewidth": 0,
             "ticks": ""
            },
            "colorscale": [
             [
              0,
              "#0d0887"
             ],
             [
              0.1111111111111111,
              "#46039f"
             ],
             [
              0.2222222222222222,
              "#7201a8"
             ],
             [
              0.3333333333333333,
              "#9c179e"
             ],
             [
              0.4444444444444444,
              "#bd3786"
             ],
             [
              0.5555555555555556,
              "#d8576b"
             ],
             [
              0.6666666666666666,
              "#ed7953"
             ],
             [
              0.7777777777777778,
              "#fb9f3a"
             ],
             [
              0.8888888888888888,
              "#fdca26"
             ],
             [
              1,
              "#f0f921"
             ]
            ],
            "type": "surface"
           }
          ],
          "table": [
           {
            "cells": {
             "fill": {
              "color": "#EBF0F8"
             },
             "line": {
              "color": "white"
             }
            },
            "header": {
             "fill": {
              "color": "#C8D4E3"
             },
             "line": {
              "color": "white"
             }
            },
            "type": "table"
           }
          ]
         },
         "layout": {
          "annotationdefaults": {
           "arrowcolor": "#2a3f5f",
           "arrowhead": 0,
           "arrowwidth": 1
          },
          "autotypenumbers": "strict",
          "coloraxis": {
           "colorbar": {
            "outlinewidth": 0,
            "ticks": ""
           }
          },
          "colorscale": {
           "diverging": [
            [
             0,
             "#8e0152"
            ],
            [
             0.1,
             "#c51b7d"
            ],
            [
             0.2,
             "#de77ae"
            ],
            [
             0.3,
             "#f1b6da"
            ],
            [
             0.4,
             "#fde0ef"
            ],
            [
             0.5,
             "#f7f7f7"
            ],
            [
             0.6,
             "#e6f5d0"
            ],
            [
             0.7,
             "#b8e186"
            ],
            [
             0.8,
             "#7fbc41"
            ],
            [
             0.9,
             "#4d9221"
            ],
            [
             1,
             "#276419"
            ]
           ],
           "sequential": [
            [
             0,
             "#0d0887"
            ],
            [
             0.1111111111111111,
             "#46039f"
            ],
            [
             0.2222222222222222,
             "#7201a8"
            ],
            [
             0.3333333333333333,
             "#9c179e"
            ],
            [
             0.4444444444444444,
             "#bd3786"
            ],
            [
             0.5555555555555556,
             "#d8576b"
            ],
            [
             0.6666666666666666,
             "#ed7953"
            ],
            [
             0.7777777777777778,
             "#fb9f3a"
            ],
            [
             0.8888888888888888,
             "#fdca26"
            ],
            [
             1,
             "#f0f921"
            ]
           ],
           "sequentialminus": [
            [
             0,
             "#0d0887"
            ],
            [
             0.1111111111111111,
             "#46039f"
            ],
            [
             0.2222222222222222,
             "#7201a8"
            ],
            [
             0.3333333333333333,
             "#9c179e"
            ],
            [
             0.4444444444444444,
             "#bd3786"
            ],
            [
             0.5555555555555556,
             "#d8576b"
            ],
            [
             0.6666666666666666,
             "#ed7953"
            ],
            [
             0.7777777777777778,
             "#fb9f3a"
            ],
            [
             0.8888888888888888,
             "#fdca26"
            ],
            [
             1,
             "#f0f921"
            ]
           ]
          },
          "colorway": [
           "#636efa",
           "#EF553B",
           "#00cc96",
           "#ab63fa",
           "#FFA15A",
           "#19d3f3",
           "#FF6692",
           "#B6E880",
           "#FF97FF",
           "#FECB52"
          ],
          "font": {
           "color": "#2a3f5f"
          },
          "geo": {
           "bgcolor": "white",
           "lakecolor": "white",
           "landcolor": "#E5ECF6",
           "showlakes": true,
           "showland": true,
           "subunitcolor": "white"
          },
          "hoverlabel": {
           "align": "left"
          },
          "hovermode": "closest",
          "mapbox": {
           "style": "light"
          },
          "paper_bgcolor": "white",
          "plot_bgcolor": "#E5ECF6",
          "polar": {
           "angularaxis": {
            "gridcolor": "white",
            "linecolor": "white",
            "ticks": ""
           },
           "bgcolor": "#E5ECF6",
           "radialaxis": {
            "gridcolor": "white",
            "linecolor": "white",
            "ticks": ""
           }
          },
          "scene": {
           "xaxis": {
            "backgroundcolor": "#E5ECF6",
            "gridcolor": "white",
            "gridwidth": 2,
            "linecolor": "white",
            "showbackground": true,
            "ticks": "",
            "zerolinecolor": "white"
           },
           "yaxis": {
            "backgroundcolor": "#E5ECF6",
            "gridcolor": "white",
            "gridwidth": 2,
            "linecolor": "white",
            "showbackground": true,
            "ticks": "",
            "zerolinecolor": "white"
           },
           "zaxis": {
            "backgroundcolor": "#E5ECF6",
            "gridcolor": "white",
            "gridwidth": 2,
            "linecolor": "white",
            "showbackground": true,
            "ticks": "",
            "zerolinecolor": "white"
           }
          },
          "shapedefaults": {
           "line": {
            "color": "#2a3f5f"
           }
          },
          "ternary": {
           "aaxis": {
            "gridcolor": "white",
            "linecolor": "white",
            "ticks": ""
           },
           "baxis": {
            "gridcolor": "white",
            "linecolor": "white",
            "ticks": ""
           },
           "bgcolor": "#E5ECF6",
           "caxis": {
            "gridcolor": "white",
            "linecolor": "white",
            "ticks": ""
           }
          },
          "title": {
           "x": 0.05
          },
          "xaxis": {
           "automargin": true,
           "gridcolor": "white",
           "linecolor": "white",
           "ticks": "",
           "title": {
            "standoff": 15
           },
           "zerolinecolor": "white",
           "zerolinewidth": 2
          },
          "yaxis": {
           "automargin": true,
           "gridcolor": "white",
           "linecolor": "white",
           "ticks": "",
           "title": {
            "standoff": 15
           },
           "zerolinecolor": "white",
           "zerolinewidth": 2
          }
         }
        },
        "xaxis": {
         "anchor": "y",
         "domain": [
          0,
          1
         ],
         "title": {
          "text": "Number of bed"
         }
        },
        "yaxis": {
         "anchor": "x",
         "domain": [
          0,
          1
         ],
         "title": {
          "text": "count"
         }
        }
       }
      }
     },
     "metadata": {},
     "output_type": "display_data"
    }
   ],
   "source": [
    "import plotly.express as px\n",
    "fig = px.bar(df, x='Number of bed')\n",
    "fig.show()"
   ]
  }
 ],
 "metadata": {
  "kernelspec": {
   "display_name": "Python 3",
   "language": "python",
   "name": "python3"
  },
  "language_info": {
   "codemirror_mode": {
    "name": "ipython",
    "version": 3
   },
   "file_extension": ".py",
   "mimetype": "text/x-python",
   "name": "python",
   "nbconvert_exporter": "python",
   "pygments_lexer": "ipython3",
   "version": "3.11.4"
  },
  "orig_nbformat": 4
 },
 "nbformat": 4,
 "nbformat_minor": 2
}
